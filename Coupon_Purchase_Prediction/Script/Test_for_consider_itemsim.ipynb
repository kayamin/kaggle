{
 "cells": [
  {
   "cell_type": "code",
   "execution_count": 1,
   "metadata": {
    "collapsed": false
   },
   "outputs": [
    {
     "name": "stderr",
     "output_type": "stream",
     "text": [
      "/Users/a_shika/.pyenv/versions/anaconda3-2.3.0/lib/python3.4/site-packages/IPython/kernel/__main__.py:25: SettingWithCopyWarning: \n",
      "A value is trying to be set on a copy of a slice from a DataFrame\n",
      "\n",
      "See the the caveats in the documentation: http://pandas.pydata.org/pandas-docs/stable/indexing.html#indexing-view-versus-copy\n",
      "/Users/a_shika/.pyenv/versions/anaconda3-2.3.0/lib/python3.4/site-packages/IPython/kernel/__main__.py:74: SettingWithCopyWarning: \n",
      "A value is trying to be set on a copy of a slice from a DataFrame\n",
      "\n",
      "See the the caveats in the documentation: http://pandas.pydata.org/pandas-docs/stable/indexing.html#indexing-view-versus-copy\n"
     ]
    }
   ],
   "source": [
    "import pandas as pd\n",
    "import numpy as np\n",
    "import sys\n",
    "from IPython.core.debugger import Tracer; debug_here = Tracer()\n",
    "\n",
    "\n",
    "coupon_list_train = pd.read_csv('../input/coupon_list_train.csv')\n",
    "coupon_list_test = pd.read_csv('../input/coupon_list_test.csv')\n",
    "user_list = pd.read_csv('../input/user_list.csv')\n",
    "coupon_purchase_train = pd.read_csv('../input/coupon_detail_train.csv')\n",
    "user_list = pd.read_csv('../input/user_list.csv')\n",
    "\n",
    "purchased_coupons_train = coupon_purchase_train.merge(coupon_list_train,\n",
    "                                                 on='COUPON_ID_hash',\n",
    "                                                 how='inner')\n",
    "                                                 \n",
    "## ユーザーの年齢を年齢層に分ける\n",
    "\n",
    "generation = [10,20,30,40,50,60,100]\n",
    "generation_name = ['10代','20代','30代','40代','50代','60以上']\n",
    "\n",
    "def conv_age2gen(user_list, generation, generation_name): #データフレームは引数としてコピーを渡すので，値を変えたら呼び出し元でも値が変わる\n",
    "    user_list['GENERATION'] = ' '\n",
    "    for i in range(len(generation)-1):\n",
    "        user_list['GENERATION'][(user_list['AGE']>=generation[i]) & (user_list['AGE']<generation[i+1])] = generation_name[i]\n",
    "\n",
    "conv_age2gen(user_list, generation, generation_name)\n",
    "\n",
    "purchased_coupons_train = pd.merge(purchased_coupons_train, user_list, on='USER_ID_hash', how='inner')\n",
    "\n",
    "### filter redundant features\n",
    "features = ['COUPON_ID_hash', 'USER_ID_hash',\n",
    "            'SEX_ID','GENERATION','GENRE_NAME', 'DISCOUNT_PRICE', 'PRICE_RATE',\n",
    "            'USABLE_DATE_MON', 'USABLE_DATE_TUE', 'USABLE_DATE_WED', 'USABLE_DATE_THU',\n",
    "            'USABLE_DATE_FRI', 'USABLE_DATE_SAT', 'USABLE_DATE_SUN', 'USABLE_DATE_HOLIDAY',\n",
    "            'USABLE_DATE_BEFORE_HOLIDAY', 'large_area_name', 'ken_name', 'small_area_name']\n",
    "purchased_coupons_train = purchased_coupons_train[features]\n",
    "\n",
    "### create 'dummyuser' records in order to merge training and testing sets in one\n",
    "coupon_list_test['USER_ID_hash'] = 'dummyuser'\n",
    "coupon_list_test['SEX_ID'] = 'dummysex'\n",
    "coupon_list_test['GENERATION'] = 'dummygeneration'\n",
    "\n",
    "### filter testing set consistently with training set\n",
    "coupon_list_test = coupon_list_test[features]\n",
    "\n",
    "### merge set together\n",
    "combined = pd.concat([purchased_coupons_train, coupon_list_test], axis=0)\n",
    "\n",
    "### create two new features\n",
    "combined['DISCOUNT_PRICE'] = 1 / np.log10(combined['DISCOUNT_PRICE'])\n",
    "combined['PRICE_RATE'] = (combined['PRICE_RATE'] / 100) ** 2\n",
    "\n",
    "\n",
    "### convert categoricals to OneHotEncoder form\n",
    "categoricals = ['SEX_ID','GENERATION','GENRE_NAME', 'USABLE_DATE_MON', 'USABLE_DATE_TUE', 'USABLE_DATE_WED',\n",
    "                'USABLE_DATE_THU', 'USABLE_DATE_FRI', 'USABLE_DATE_SAT', 'USABLE_DATE_SUN',\n",
    "                'USABLE_DATE_HOLIDAY', 'USABLE_DATE_BEFORE_HOLIDAY', 'large_area_name', 'ken_name', 'small_area_name']\n",
    "combined_categoricals = combined[categoricals]\n",
    "combined_categoricals = pd.get_dummies(combined_categoricals,\n",
    "                                    dummy_na=False)\n",
    "\n",
    "### leaving continuous features as is, obtain transformed dataset\n",
    "continuous = list(set(features) - set(categoricals))\n",
    "combined = pd.concat([combined[continuous], combined_categoricals], axis=1)\n",
    "\n",
    "### remove NaN values\n",
    "NAN_SUBSTITUTION_VALUE = 1\n",
    "combined = combined.fillna(NAN_SUBSTITUTION_VALUE)\n",
    "\n",
    "### split back into training and testing sets\n",
    "train = combined[combined['USER_ID_hash'] != 'dummyuser']\n",
    "test = combined[combined['USER_ID_hash'] == 'dummyuser']\n",
    "test.drop('USER_ID_hash', inplace=True, axis=1) \n",
    "\n",
    "\n",
    "### アイテムごとの特徴行列を作成\n",
    "item_train_profiles = train.groupby('COUPON_ID_hash').mean()\n",
    "item_test_profiles = test.groupby('COUPON_ID_hash').mean()\n",
    "\n",
    "### アイテム間の類似度を計算\n",
    "item_similarity_scores = np.dot(item_test_profiles, item_train_profiles.T)\n",
    "\n",
    "## アイテム間の類似度をDataFrameに直す\n",
    "index_itemsim = item_test_profiles.index\n",
    "columns_itemsim = item_train_profiles.index\n",
    "itemsim_df = pd.DataFrame(index=index_itemsim, columns=columns_itemsim, data=item_similarity_scores)\n",
    "\n",
    "### アイテム間の類似度 top100 をリストで返す関数\n",
    "def get_top100_user_hashes_list(row):\n",
    "    row.sort()\n",
    "\n",
    "    return row.index[-100:][::-1].tolist()\n",
    "\n",
    "top100_simitem = itemsim_df.apply(get_top100_user_hashes_list, axis=1)"
   ]
  },
  {
   "cell_type": "code",
   "execution_count": 13,
   "metadata": {
    "collapsed": false
   },
   "outputs": [],
   "source": [
    "index_top100 = top100_simitem.values[:len(top100_simitem)]##各アイテム類似度 top100 のインデックス"
   ]
  },
  {
   "cell_type": "code",
   "execution_count": 17,
   "metadata": {
    "collapsed": false
   },
   "outputs": [],
   "source": [
    "#tem_train_profiles.ix[index_top100[1]].mean()\n",
    "#len(test_index[0])\n",
    "#len(index_top100)"
   ]
  },
  {
   "cell_type": "code",
   "execution_count": 19,
   "metadata": {
    "collapsed": true
   },
   "outputs": [],
   "source": [
    "customer_feature = ['SEX_ID_f','SEX_ID_m','GENERATION_10代','GENERATION_20代','GENERATION_30代',\n",
    "                                        'GENERATION_40代','GENERATION_50代','GENERATION_60以上']"
   ]
  },
  {
   "cell_type": "code",
   "execution_count": 20,
   "metadata": {
    "collapsed": false
   },
   "outputs": [],
   "source": [
    "temp_df = pd.DataFrame(index=item_test_profiles.index, columns=customer_feature)\n",
    "for i in range(len(index_top100)):\n",
    "    temp_df.ix[i] = item_train_profiles.ix[index_top100[i]].mean()"
   ]
  },
  {
   "cell_type": "code",
   "execution_count": 82,
   "metadata": {
    "collapsed": false
   },
   "outputs": [],
   "source": [
    "item_test_profiles[customer_feature] = temp_df[customer_feature]"
   ]
  },
  {
   "cell_type": "code",
   "execution_count": 33,
   "metadata": {
    "collapsed": false,
    "scrolled": true
   },
   "outputs": [],
   "source": [
    "train_dropped_coupons = train.drop('COUPON_ID_hash', axis=1)\n",
    "user_profiles = train_dropped_coupons.groupby(by='USER_ID_hash').apply(np.mean)"
   ]
  },
  {
   "cell_type": "code",
   "execution_count": 39,
   "metadata": {
    "collapsed": false
   },
   "outputs": [],
   "source": [
    "### creating weight matrix for features\n",
    "### 各特徴の重みを格納した辞書型オブジェクトの生成\n",
    "FEATURE_WEIGHTS = {\n",
    "    'GENRE_NAME': 2,\n",
    "    'DISCOUNT_PRICE': 2,\n",
    "    'PRICE_RATE': 0,\n",
    "    'USABLE_DATE_': 0,\n",
    "    'large_area_name': 0.5,\n",
    "    'ken_name': 1,\n",
    "    'small_area_name': 5,\n",
    "    'SEX_ID': 2,\n",
    "    'GENERATION': 1\n",
    "}\n",
    "\n",
    "# dict lookup helper\n",
    "# 与えられた特徴の名前に対して，辞書に登録してある重みを返す\n",
    "def find_appropriate_weight(weights_dict, colname):\n",
    "    for col, weight in weights_dict.items(): #辞書のitems()メソッドで全ての key(col), value(weight) をたどる\n",
    "        if col in colname:  #各ダミー特徴には それぞれの元のキー名が先頭に付いているので，その文字列が含まれるかどうかで判断できる\n",
    "            return weight\n",
    "    raise ValueError #呼び出し元にエラーを返し処理を任せる\n",
    "\n",
    "W_values = [find_appropriate_weight(FEATURE_WEIGHTS, colname)\n",
    "            for colname in user_profiles.columns] # for文で代入することで n×1 行列を作ることが出来る\n",
    "W = np.diag(W_values)\n",
    "\n"
   ]
  },
  {
   "cell_type": "code",
   "execution_count": 49,
   "metadata": {
    "collapsed": true
   },
   "outputs": [],
   "source": [
    "\n",
    "similarity_scores = np.dot(np.dot(user_profiles, W),\n",
    "                           item_test_profiles.T)\n",
    "\n",
    "coupons_ids = test['COUPON_ID_hash']\n",
    "index = user_profiles.index\n",
    "columns = [coupons_ids[i] for i in range(0, similarity_scores.shape[1])]\n",
    "result_df = pd.DataFrame(index=index, columns=columns,\n",
    "                      data=similarity_scores)\n",
    "\n",
    "### obtain string of top10 hashes according to similarity scores for every user\n",
    "def get_top10_coupon_hashes_string(row):\n",
    "    row.sort()\n",
    "    return ' '.join(row.index[-10:][::-1].tolist()) #スーペースを区切り文字として，index（ = COUPON_ID）top 10 を結合したものをかえす\n",
    "                                                    #[-10:]は最後から10個目から最後までを指定\n",
    "                                                    #[::-1]は取り出した要素を逆順にする\n",
    "                                                    #.tolist でリスト化\n",
    "\n",
    "output = result_df.apply(get_top10_coupon_hashes_string, axis=1)"
   ]
  },
  {
   "cell_type": "code",
   "execution_count": 59,
   "metadata": {
    "collapsed": false
   },
   "outputs": [],
   "source": [
    "output_df = pd.DataFrame(data={'USER_ID_hash': output.index,\n",
    "                               'PURCHASED_COUPONS': output.values})\n",
    "output_df_all_users = pd.merge(user_list, output_df, how='left', on='USER_ID_hash')\n",
    "output_df_all_users.to_csv('cosine_sim_python_plus_SEXID&GENERATION.csv', header=True,\n",
    "                           index=False, columns=['USER_ID_hash', 'PURCHASED_COUPONS'])"
   ]
  },
  {
   "cell_type": "code",
   "execution_count": 60,
   "metadata": {
    "collapsed": false
   },
   "outputs": [
    {
     "data": {
      "text/plain": [
       "Index(['REG_DATE', 'SEX_ID', 'AGE', 'WITHDRAW_DATE', 'PREF_NAME',\n",
       "       'USER_ID_hash', 'GENERATION', 'PURCHASED_COUPONS'],\n",
       "      dtype='object')"
      ]
     },
     "execution_count": 60,
     "metadata": {},
     "output_type": "execute_result"
    }
   ],
   "source": [
    "output_df_all_users.columns"
   ]
  },
  {
   "cell_type": "code",
   "execution_count": 61,
   "metadata": {
    "collapsed": false
   },
   "outputs": [
    {
     "data": {
      "text/plain": [
       "COUPON_ID_hash\n",
       "007dce05be7f473f362e79bfe7256736    [b083e69497a41124a2f401c5e7079d32, 4ae23f01dd4...\n",
       "00fcc93438a282f8b915777a209dd0bd    [043836a27b467325380ee4bc08d52dc9, 200d3717644...\n",
       "01023eac71c13f529f43cfb691d914c9    [5a46b5cc91d6397e61700052a4be5e1e, 60e42979b37...\n",
       "0147fd072c6ef4e299d428f19a5f0e01    [35062a0e618c270ca61336586d9ae70f, 23ce3cd93d9...\n",
       "017956f30c352df708358a6d1219fb12    [043836a27b467325380ee4bc08d52dc9, 200d3717644...\n",
       "01f995ae8c168d5eb7b0fd69cf8ee6b2    [4ae23f01dd4d5e20e4f6347ab3a66ac1, 1a613708a7e...\n",
       "03876bc74d321132f40d2ad6c8c420f9    [7e02c76a89e4b495d37e5ad83cca8a1c, c5dd8bc3e1c...\n",
       "059a13d7779c38f345a132280caa05ed    [4ae23f01dd4d5e20e4f6347ab3a66ac1, 1a613708a7e...\n",
       "05c58bb36b58b4928c6b0a46a0cedfeb    [ea60bdfa51a6b065610ba5a9f5668777, 33b07d89407...\n",
       "06696e5b4afee54a10cc1c0637a83913    [f2b03a8f46704f38e6903a4e6f474f6d, 23ce3cd93d9...\n",
       "0855a38feec9156f8849b7b89eaccdec    [23ce3cd93d95d2985d85f656655a100a, 35062a0e618...\n",
       "0871d5de805bf7f26fca485d24ec65e9    [90596c0af2f58eeb5d58462321e66047, 9b216982692...\n",
       "09ac6e78e77fabbcec070e8427c258a8    [043836a27b467325380ee4bc08d52dc9, 200d3717644...\n",
       "09aeb1dad89febf028823923f99fc9bd    [c5dd8bc3e1cdfa0c2aed0c9df721ef55, bc3e88c86de...\n",
       "09ec991661af3ac7bc3b5cddc31e2fa0    [b773838d3c73b4ca6e1f200cd842319b, 23ce3cd93d9...\n",
       "0a202a8b338ded7a5583076483dd02e3    [dae7ae7d804717da56c2fcafb1425b8f, 23ce3cd93d9...\n",
       "0acc89ba7593ed787e3439b7f05884c2    [c5dd8bc3e1cdfa0c2aed0c9df721ef55, bc3e88c86de...\n",
       "0c015306597566b632bebfb63b7e59f3    [23ce3cd93d95d2985d85f656655a100a, 35062a0e618...\n",
       "0d0df1856bda22a56bc6e5a7c92ac88a    [b773838d3c73b4ca6e1f200cd842319b, 35062a0e618...\n",
       "0da4709d065835039f700d9bb67b461b    [9d7e9ccf024ac1ced612ccb44dc38204, 043836a27b4...\n",
       "0e37c4527014d9ecee7fe41cc49560fb    [200d3717644da4f1e5e81a13684c3bc9, 2b85f098ae3...\n",
       "0e917a0e872246a36e7a9a28df505562    [3a5af13efd768fde78774d95be866ab5, 5a46b5cc91d...\n",
       "0ed660499be5fdca5c8c7242c656a9d1    [b773838d3c73b4ca6e1f200cd842319b, 33b07d89407...\n",
       "0fb2dab415369349676dc3d3e3fba003    [33b07d89407a9b36977d85b406cd46e5, 01e9e85b4a8...\n",
       "0fd38be174187a3de72015ce9d5ca3a2    [4ae23f01dd4d5e20e4f6347ab3a66ac1, 1a613708a7e...\n",
       "10a5759c0191b9097fa91650625e5a95    [7e02c76a89e4b495d37e5ad83cca8a1c, c5dd8bc3e1c...\n",
       "11013bee6d2ede8dde764258bcd07e77    [b083e69497a41124a2f401c5e7079d32, 23ce3cd93d9...\n",
       "1124ba8cedc687ac5e0b51916006d58d    [b083e69497a41124a2f401c5e7079d32, 23ce3cd93d9...\n",
       "11cd8c9131da26d601fdc72f9df1a581    [9b2169826928d822ff256dd6f5cb80db, 90596c0af2f...\n",
       "128ad3628350e513914a2cd7d9c1e17b    [b773838d3c73b4ca6e1f200cd842319b, c5dd8bc3e1c...\n",
       "                                                          ...                        \n",
       "e79bf32c70bd1df80c39eca3065de785    [90596c0af2f58eeb5d58462321e66047, 9b216982692...\n",
       "e7e50e69549864e48ff8c32a294ad8fd    [043836a27b467325380ee4bc08d52dc9, 200d3717644...\n",
       "ea0aeaa48c3a5c7eff886cc215c8fc77    [33b07d89407a9b36977d85b406cd46e5, 01e9e85b4a8...\n",
       "ea370226d85d02873a4126e366d16d58    [b773838d3c73b4ca6e1f200cd842319b, 35062a0e618...\n",
       "ead258ccbd57d07ab685a047f08b9ae3    [b773838d3c73b4ca6e1f200cd842319b, 33b07d89407...\n",
       "ee06ee50d4c9c1517553735a2f78ea93    [b773838d3c73b4ca6e1f200cd842319b, 33b07d89407...\n",
       "efba69ecf289cae83213898c169ca98e    [4ae23f01dd4d5e20e4f6347ab3a66ac1, 1a613708a7e...\n",
       "f05f9decd2c6493029bbd11bb5416058    [bc3e88c86def37776f0b4009210bee73, c5dd8bc3e1c...\n",
       "f0685cf6de3c1e1fd86d2f10784b85f5    [9d7e9ccf024ac1ced612ccb44dc38204, 2f79867156b...\n",
       "f1f00137ca89c6bb32f366ef5f66a001    [043836a27b467325380ee4bc08d52dc9, 23ce3cd93d9...\n",
       "f25c0927423d87a8403f474c2f09f339    [b773838d3c73b4ca6e1f200cd842319b, 23ce3cd93d9...\n",
       "f453a31322bc6acc85d3b10ddace13e1    [35062a0e618c270ca61336586d9ae70f, 33b07d89407...\n",
       "f5a77f2907876411752d58e1b9030023    [ea60bdfa51a6b065610ba5a9f5668777, 0e925fd4e72...\n",
       "f67fa03b3a9aca26efacf5988dc9fd10    [5576d82d8254163344d92ae444b7cffc, 23ce3cd93d9...\n",
       "f7cc41be54ea00bfd39792b9ee104f06    [23ce3cd93d95d2985d85f656655a100a, 35062a0e618...\n",
       "f80fab877d09509cd56dcbc9a251275d    [c5dd8bc3e1cdfa0c2aed0c9df721ef55, bc3e88c86de...\n",
       "f8cd0c285f925936e2ef808eb3a8296a    [b773838d3c73b4ca6e1f200cd842319b, 23ce3cd93d9...\n",
       "f93dc6e223935d817e1237f8f73b56a2    [b773838d3c73b4ca6e1f200cd842319b, 23ce3cd93d9...\n",
       "f9c657ce7ca80b3766ced3a9a3c709bb    [b773838d3c73b4ca6e1f200cd842319b, c5dd8bc3e1c...\n",
       "fa94b2db3a3ac736bf4975e91cee5e05    [5a46b5cc91d6397e61700052a4be5e1e, 60e42979b37...\n",
       "fba7c9c0955059611cf58a9da12bd14f    [33b07d89407a9b36977d85b406cd46e5, 01e9e85b4a8...\n",
       "fbbfdbb5b73e81a6ae06e02411ad6bbf    [5a46b5cc91d6397e61700052a4be5e1e, 60e42979b37...\n",
       "fc5f052a1bd97696fbcab35d8d974b73    [ea60bdfa51a6b065610ba5a9f5668777, 33b07d89407...\n",
       "fc978c6b2af79fe098ab63599072e2e9    [7e02c76a89e4b495d37e5ad83cca8a1c, c5dd8bc3e1c...\n",
       "fce3668e023256957905b76b2ffc9659    [bc3e88c86def37776f0b4009210bee73, 33b07d89407...\n",
       "fe3dfe6334edd49b32d86963f4dcfe17    [043836a27b467325380ee4bc08d52dc9, 200d3717644...\n",
       "fe5b6ec460a7b05d9fd8347bdbdb429d    [44f0eb24b10c99a3abdbf70299a17b80, 5a46b5cc91d...\n",
       "fecbe103f0dd5ab6b52952a813d7dee6    [b083e69497a41124a2f401c5e7079d32, b773838d3c7...\n",
       "fefa1884298dd5d241437da39c0026b0    [bc3e88c86def37776f0b4009210bee73, 33b07d89407...\n",
       "ffe734ef0b1d82d6816ac33efa07cce5    [23ce3cd93d95d2985d85f656655a100a, 33b07d89407...\n",
       "dtype: object"
      ]
     },
     "execution_count": 61,
     "metadata": {},
     "output_type": "execute_result"
    }
   ],
   "source": [
    "top100_simitem"
   ]
  },
  {
   "cell_type": "code",
   "execution_count": null,
   "metadata": {
    "collapsed": true
   },
   "outputs": [],
   "source": []
  }
 ],
 "metadata": {
  "kernelspec": {
   "display_name": "Python 3",
   "language": "python",
   "name": "python3"
  },
  "language_info": {
   "codemirror_mode": {
    "name": "ipython",
    "version": 3
   },
   "file_extension": ".py",
   "mimetype": "text/x-python",
   "name": "python",
   "nbconvert_exporter": "python",
   "pygments_lexer": "ipython3",
   "version": "3.4.3"
  }
 },
 "nbformat": 4,
 "nbformat_minor": 0
}
