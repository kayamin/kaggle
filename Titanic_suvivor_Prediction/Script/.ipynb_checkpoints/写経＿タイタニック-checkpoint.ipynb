{
 "cells": [
  {
   "cell_type": "markdown",
   "metadata": {},
   "source": [
    "# タイタニック号の生存者をデータから予測する"
   ]
  },
  {
   "cell_type": "code",
   "execution_count": 39,
   "metadata": {
    "collapsed": false
   },
   "outputs": [
    {
     "name": "stdout",
     "output_type": "stream",
     "text": [
      "Using matplotlib backend: MacOSX\n",
      "Populating the interactive namespace from numpy and matplotlib\n"
     ]
    }
   ],
   "source": [
    "import pandas as pd\n",
    "from pandas import Series, DataFrame\n",
    "\n",
    "import numpy as np\n",
    "import matplotlib.pyplot as plt\n",
    "import seaborn as sns\n",
    "sns.set_style('whitegrid')\n",
    "%matplotlib inline\n",
    "%pylab"
   ]
  },
  {
   "cell_type": "code",
   "execution_count": 66,
   "metadata": {
    "collapsed": false
   },
   "outputs": [
    {
     "data": {
      "text/html": [
       "<div>\n",
       "<table border=\"1\" class=\"dataframe\">\n",
       "  <thead>\n",
       "    <tr style=\"text-align: right;\">\n",
       "      <th></th>\n",
       "      <th>PassengerId</th>\n",
       "      <th>Survived</th>\n",
       "      <th>Pclass</th>\n",
       "      <th>Name</th>\n",
       "      <th>Sex</th>\n",
       "      <th>Age</th>\n",
       "      <th>SibSp</th>\n",
       "      <th>Parch</th>\n",
       "      <th>Ticket</th>\n",
       "      <th>Fare</th>\n",
       "      <th>Cabin</th>\n",
       "      <th>Embarked</th>\n",
       "    </tr>\n",
       "  </thead>\n",
       "  <tbody>\n",
       "    <tr>\n",
       "      <th>0</th>\n",
       "      <td>1</td>\n",
       "      <td>0</td>\n",
       "      <td>3</td>\n",
       "      <td>Braund, Mr. Owen Harris</td>\n",
       "      <td>male</td>\n",
       "      <td>22.0</td>\n",
       "      <td>1</td>\n",
       "      <td>0</td>\n",
       "      <td>A/5 21171</td>\n",
       "      <td>7.2500</td>\n",
       "      <td>NaN</td>\n",
       "      <td>S</td>\n",
       "    </tr>\n",
       "    <tr>\n",
       "      <th>1</th>\n",
       "      <td>2</td>\n",
       "      <td>1</td>\n",
       "      <td>1</td>\n",
       "      <td>Cumings, Mrs. John Bradley (Florence Briggs Th...</td>\n",
       "      <td>female</td>\n",
       "      <td>38.0</td>\n",
       "      <td>1</td>\n",
       "      <td>0</td>\n",
       "      <td>PC 17599</td>\n",
       "      <td>71.2833</td>\n",
       "      <td>C85</td>\n",
       "      <td>C</td>\n",
       "    </tr>\n",
       "    <tr>\n",
       "      <th>2</th>\n",
       "      <td>3</td>\n",
       "      <td>1</td>\n",
       "      <td>3</td>\n",
       "      <td>Heikkinen, Miss. Laina</td>\n",
       "      <td>female</td>\n",
       "      <td>26.0</td>\n",
       "      <td>0</td>\n",
       "      <td>0</td>\n",
       "      <td>STON/O2. 3101282</td>\n",
       "      <td>7.9250</td>\n",
       "      <td>NaN</td>\n",
       "      <td>S</td>\n",
       "    </tr>\n",
       "    <tr>\n",
       "      <th>3</th>\n",
       "      <td>4</td>\n",
       "      <td>1</td>\n",
       "      <td>1</td>\n",
       "      <td>Futrelle, Mrs. Jacques Heath (Lily May Peel)</td>\n",
       "      <td>female</td>\n",
       "      <td>35.0</td>\n",
       "      <td>1</td>\n",
       "      <td>0</td>\n",
       "      <td>113803</td>\n",
       "      <td>53.1000</td>\n",
       "      <td>C123</td>\n",
       "      <td>S</td>\n",
       "    </tr>\n",
       "    <tr>\n",
       "      <th>4</th>\n",
       "      <td>5</td>\n",
       "      <td>0</td>\n",
       "      <td>3</td>\n",
       "      <td>Allen, Mr. William Henry</td>\n",
       "      <td>male</td>\n",
       "      <td>35.0</td>\n",
       "      <td>0</td>\n",
       "      <td>0</td>\n",
       "      <td>373450</td>\n",
       "      <td>8.0500</td>\n",
       "      <td>NaN</td>\n",
       "      <td>S</td>\n",
       "    </tr>\n",
       "  </tbody>\n",
       "</table>\n",
       "</div>"
      ],
      "text/plain": [
       "   PassengerId  Survived  Pclass  \\\n",
       "0            1         0       3   \n",
       "1            2         1       1   \n",
       "2            3         1       3   \n",
       "3            4         1       1   \n",
       "4            5         0       3   \n",
       "\n",
       "                                                Name     Sex   Age  SibSp  \\\n",
       "0                            Braund, Mr. Owen Harris    male  22.0      1   \n",
       "1  Cumings, Mrs. John Bradley (Florence Briggs Th...  female  38.0      1   \n",
       "2                             Heikkinen, Miss. Laina  female  26.0      0   \n",
       "3       Futrelle, Mrs. Jacques Heath (Lily May Peel)  female  35.0      1   \n",
       "4                           Allen, Mr. William Henry    male  35.0      0   \n",
       "\n",
       "   Parch            Ticket     Fare Cabin Embarked  \n",
       "0      0         A/5 21171   7.2500   NaN        S  \n",
       "1      0          PC 17599  71.2833   C85        C  \n",
       "2      0  STON/O2. 3101282   7.9250   NaN        S  \n",
       "3      0            113803  53.1000  C123        S  \n",
       "4      0            373450   8.0500   NaN        S  "
      ]
     },
     "execution_count": 66,
     "metadata": {},
     "output_type": "execute_result"
    }
   ],
   "source": [
    "titanic_df = pd.read_csv(\"../input/train.csv\")\n",
    "test_df = pd.read_csv(\"../input/test.csv\")\n",
    "\n",
    "titanic_df.head()"
   ]
  },
  {
   "cell_type": "code",
   "execution_count": 67,
   "metadata": {
    "collapsed": false
   },
   "outputs": [
    {
     "name": "stdout",
     "output_type": "stream",
     "text": [
      "<class 'pandas.core.frame.DataFrame'>\n",
      "RangeIndex: 891 entries, 0 to 890\n",
      "Data columns (total 12 columns):\n",
      "PassengerId    891 non-null int64\n",
      "Survived       891 non-null int64\n",
      "Pclass         891 non-null int64\n",
      "Name           891 non-null object\n",
      "Sex            891 non-null object\n",
      "Age            714 non-null float64\n",
      "SibSp          891 non-null int64\n",
      "Parch          891 non-null int64\n",
      "Ticket         891 non-null object\n",
      "Fare           891 non-null float64\n",
      "Cabin          204 non-null object\n",
      "Embarked       889 non-null object\n",
      "dtypes: float64(2), int64(5), object(5)\n",
      "memory usage: 83.6+ KB\n",
      "-------------------------\n",
      "<class 'pandas.core.frame.DataFrame'>\n",
      "RangeIndex: 418 entries, 0 to 417\n",
      "Data columns (total 11 columns):\n",
      "PassengerId    418 non-null int64\n",
      "Pclass         418 non-null int64\n",
      "Name           418 non-null object\n",
      "Sex            418 non-null object\n",
      "Age            332 non-null float64\n",
      "SibSp          418 non-null int64\n",
      "Parch          418 non-null int64\n",
      "Ticket         418 non-null object\n",
      "Fare           417 non-null float64\n",
      "Cabin          91 non-null object\n",
      "Embarked       418 non-null object\n",
      "dtypes: float64(2), int64(4), object(5)\n",
      "memory usage: 36.0+ KB\n"
     ]
    }
   ],
   "source": [
    "titanic_df.info()\n",
    "print(\"-------------------------\")\n",
    "test_df.info()"
   ]
  },
  {
   "cell_type": "code",
   "execution_count": 68,
   "metadata": {
    "collapsed": false
   },
   "outputs": [],
   "source": [
    "# 予測に関係ないと思われる， 登場者ID, 名前，　チケット（購入場所，会社等）を　データから落とす\n",
    "\n",
    "titanic_df = titanic_df.drop([\"PassengerId\",\"Name\",\"Ticket\"], axis=1)\n",
    "test_df     = test_df.drop(['PassengerId','Name','Ticket'], axis=1)"
   ]
  },
  {
   "cell_type": "code",
   "execution_count": 69,
   "metadata": {
    "collapsed": false
   },
   "outputs": [
    {
     "data": {
      "text/plain": [
       "687"
      ]
     },
     "execution_count": 69,
     "metadata": {},
     "output_type": "execute_result"
    }
   ],
   "source": [
    "titanic_df['Cabin'].isnull().sum()"
   ]
  },
  {
   "cell_type": "code",
   "execution_count": 70,
   "metadata": {
    "collapsed": false
   },
   "outputs": [
    {
     "data": {
      "text/html": [
       "<div>\n",
       "<table border=\"1\" class=\"dataframe\">\n",
       "  <thead>\n",
       "    <tr style=\"text-align: right;\">\n",
       "      <th></th>\n",
       "      <th>Survived</th>\n",
       "      <th>Pclass</th>\n",
       "      <th>Sex</th>\n",
       "      <th>Age</th>\n",
       "      <th>SibSp</th>\n",
       "      <th>Parch</th>\n",
       "      <th>Fare</th>\n",
       "      <th>Cabin</th>\n",
       "      <th>Embarked</th>\n",
       "    </tr>\n",
       "  </thead>\n",
       "  <tbody>\n",
       "    <tr>\n",
       "      <th>0</th>\n",
       "      <td>0</td>\n",
       "      <td>3</td>\n",
       "      <td>male</td>\n",
       "      <td>22.0</td>\n",
       "      <td>1</td>\n",
       "      <td>0</td>\n",
       "      <td>7.2500</td>\n",
       "      <td>NaN</td>\n",
       "      <td>S</td>\n",
       "    </tr>\n",
       "    <tr>\n",
       "      <th>1</th>\n",
       "      <td>1</td>\n",
       "      <td>1</td>\n",
       "      <td>female</td>\n",
       "      <td>38.0</td>\n",
       "      <td>1</td>\n",
       "      <td>0</td>\n",
       "      <td>71.2833</td>\n",
       "      <td>C85</td>\n",
       "      <td>C</td>\n",
       "    </tr>\n",
       "    <tr>\n",
       "      <th>2</th>\n",
       "      <td>1</td>\n",
       "      <td>3</td>\n",
       "      <td>female</td>\n",
       "      <td>26.0</td>\n",
       "      <td>0</td>\n",
       "      <td>0</td>\n",
       "      <td>7.9250</td>\n",
       "      <td>NaN</td>\n",
       "      <td>S</td>\n",
       "    </tr>\n",
       "    <tr>\n",
       "      <th>3</th>\n",
       "      <td>1</td>\n",
       "      <td>1</td>\n",
       "      <td>female</td>\n",
       "      <td>35.0</td>\n",
       "      <td>1</td>\n",
       "      <td>0</td>\n",
       "      <td>53.1000</td>\n",
       "      <td>C123</td>\n",
       "      <td>S</td>\n",
       "    </tr>\n",
       "    <tr>\n",
       "      <th>4</th>\n",
       "      <td>0</td>\n",
       "      <td>3</td>\n",
       "      <td>male</td>\n",
       "      <td>35.0</td>\n",
       "      <td>0</td>\n",
       "      <td>0</td>\n",
       "      <td>8.0500</td>\n",
       "      <td>NaN</td>\n",
       "      <td>S</td>\n",
       "    </tr>\n",
       "  </tbody>\n",
       "</table>\n",
       "</div>"
      ],
      "text/plain": [
       "   Survived  Pclass     Sex   Age  SibSp  Parch     Fare Cabin Embarked\n",
       "0         0       3    male  22.0      1      0   7.2500   NaN        S\n",
       "1         1       1  female  38.0      1      0  71.2833   C85        C\n",
       "2         1       3  female  26.0      0      0   7.9250   NaN        S\n",
       "3         1       1  female  35.0      1      0  53.1000  C123        S\n",
       "4         0       3    male  35.0      0      0   8.0500   NaN        S"
      ]
     },
     "execution_count": 70,
     "metadata": {},
     "output_type": "execute_result"
    }
   ],
   "source": [
    "titanic_df.head()"
   ]
  },
  {
   "cell_type": "code",
   "execution_count": 71,
   "metadata": {
    "collapsed": false
   },
   "outputs": [
    {
     "data": {
      "text/plain": [
       "(891, 9)"
      ]
     },
     "execution_count": 71,
     "metadata": {},
     "output_type": "execute_result"
    }
   ],
   "source": [
    "titanic_df.shape"
   ]
  },
  {
   "cell_type": "code",
   "execution_count": 72,
   "metadata": {
    "collapsed": false
   },
   "outputs": [],
   "source": [
    "Emb_dict = {key:val for val, key in enumerate(np.unique(titanic_df.dropna()[\"Embarked\"]))}\n",
    "\n",
    "df_emb = titanic_df['Embarked'].map(Emb_dict)\n",
    "\n",
    "inv_Emb_dict = {val:key for key, val in Emb_dict.items()}\n"
   ]
  },
  {
   "cell_type": "code",
   "execution_count": 73,
   "metadata": {
    "collapsed": false
   },
   "outputs": [
    {
     "data": {
      "text/plain": [
       "'S'"
      ]
     },
     "execution_count": 73,
     "metadata": {},
     "output_type": "execute_result"
    }
   ],
   "source": [
    "y = df_emb==2\n",
    "y.sum()\n",
    "\n",
    "inv_Emb_dict[2]"
   ]
  },
  {
   "cell_type": "markdown",
   "metadata": {},
   "source": [
    "## Embarked と生存率の関係をプロットして検証"
   ]
  },
  {
   "cell_type": "code",
   "execution_count": 74,
   "metadata": {
    "collapsed": false
   },
   "outputs": [
    {
     "name": "stderr",
     "output_type": "stream",
     "text": [
      "/Users/a_shika/.pyenv/versions/anaconda3-2.3.0/lib/python3.4/site-packages/matplotlib/collections.py:590: FutureWarning: elementwise comparison failed; returning scalar instead, but in the future will perform elementwise comparison\n",
      "  if self._edgecolors == str('face'):\n"
     ]
    },
    {
     "data": {
      "image/png": "[encoded data removed]",
      "text/plain": [
       "<matplotlib.figure.Figure at 0x11c6b0128>"
      ]
     },
     "metadata": {},
     "output_type": "display_data"
    },
    {
     "data": {
      "image/png": "[encoded data removed]",
      "text/plain": [
       "<matplotlib.figure.Figure at 0x11c6aee48>"
      ]
     },
     "metadata": {},
     "output_type": "display_data"
    }
   ],
   "source": [
    "# Embarked の値ごとに Surivived を計算して割合をプロット\n",
    "sns.factorplot('Embarked','Survived', data=titanic_df,size=4,aspect=3)\n",
    "\n",
    "fig, (axis1,axis2,axis3) = plt.subplots(1,3,figsize=(15,5)) #３つのサブプロット用のfig領域を作成\n",
    "\n",
    "# Embarked のカテゴリカルデータを分類してそれぞれの数をプロット\n",
    "sns.countplot(x='Embarked', data=titanic_df, ax=axis1)\n",
    "\n",
    "# Survived の各値に対して Embarked 毎にまとめて数をプロット\n",
    "sns.countplot(x='Survived', hue=\"Embarked\", data=titanic_df, order=[1,0], ax=axis2)\n",
    "\n",
    "# データフレームをまとめて， 各Embarked 毎に生存率の平均値を算出\n",
    "    # group by で指定したカラムの値ごとにまとめる， as_index=Flase とすることで 指定したカラムをインデックスにしない\n",
    "embark_perc = titanic_df[[\"Embarked\",\"Survived\"]].groupby(['Embarked'],as_index=False).mean()\n",
    "sns.barplot(x='Embarked', y='Survived', data=embark_perc, order=['S','C','Q'], ax=axis3)\n",
    "\n",
    "\n",
    "## 例： C,Q の人は生存確率が高そうなので？（Cだけでも良いが） 特徴量として残す\n",
    "## one hot encoding\n",
    "\n",
    "emb_dum_titanic = pd.get_dummies(titanic_df[\"Embarked\"])\n",
    "emb_dum_titanic.drop(['S'], axis=1, inplace=True)\n",
    "\n",
    "emb_dum_test = pd.get_dummies(test_df[\"Embarked\"])\n",
    "emb_dum_test.drop(['S'], axis=1, inplace=True)\n",
    "\n",
    "titanic_df = titanic_df.join(emb_dum_titanic)\n",
    "test_df     = test_df.join(emb_dum_test)\n",
    "\n",
    "titanic_df.drop(['Embarked'], axis=1, inplace=True)\n",
    "test_df.drop(['Embarked'], axis=1, inplace=True)\n"
   ]
  },
  {
   "cell_type": "markdown",
   "metadata": {},
   "source": [
    "## Fare と生存率の関係をグラフ化して検証"
   ]
  },
  {
   "cell_type": "code",
   "execution_count": 75,
   "metadata": {
    "collapsed": false
   },
   "outputs": [
    {
     "data": {
      "image/png": "[encoded data removed]",
      "text/plain": [
       "<matplotlib.figure.Figure at 0x110e41390>"
      ]
     },
     "metadata": {},
     "output_type": "display_data"
    },
    {
     "data": {
      "image/png": "[encoded data removed]",
      "text/plain": [
       "<matplotlib.figure.Figure at 0x11c6b4b70>"
      ]
     },
     "metadata": {},
     "output_type": "display_data"
    },
    {
     "data": {
      "text/plain": [
       "<matplotlib.figure.Figure at 0x11c6b47b8>"
      ]
     },
     "metadata": {},
     "output_type": "display_data"
    },
    {
     "name": "stderr",
     "output_type": "stream",
     "text": [
      "/Users/a_shika/.pyenv/versions/anaconda3-2.3.0/lib/python3.4/site-packages/matplotlib/collections.py:590: FutureWarning: elementwise comparison failed; returning scalar instead, but in the future will perform elementwise comparison\n",
      "  if self._edgecolors == str('face'):\n"
     ]
    },
    {
     "data": {
      "image/png": "[encoded data removed]",
      "text/plain": [
       "<matplotlib.figure.Figure at 0x11caa0940>"
      ]
     },
     "metadata": {},
     "output_type": "display_data"
    },
    {
     "data": {
      "image/png": "[encoded data removed]",
      "text/plain": [
       "<matplotlib.figure.Figure at 0x1117d5748>"
      ]
     },
     "metadata": {},
     "output_type": "display_data"
    }
   ],
   "source": [
    "# Fare についての関係をグラフ化して検証\n",
    "\n",
    "\n",
    "test_df[\"Fare\"].fillna(test_df[\"Fare\"].median(), inplace=True)\n",
    "\n",
    "# 運賃をを整数化\n",
    "titanic_df[\"Fare\"]  = titanic_df[\"Fare\"].astype(int)\n",
    "test_df[\"Fare\"]  = test_df[\"Fare\"].astype(int)\n",
    "\n",
    "# Survived 毎に運賃の平均，標準偏差を計算\n",
    "\n",
    "fare_mean = titanic_df[[\"Survived\",\"Fare\"]].groupby([\"Survived\"], as_index=False).mean()\n",
    "fare_std     = titanic_df[[\"Survived\",\"Fare\"]].groupby([\"Survived\"], as_index=False).std()\n",
    "\n",
    "\n",
    "plt.hist(titanic_df[\"Fare\"], bins = 100)\n",
    "plt.xlim([0,300])\n",
    "plt.show()\n",
    "\n",
    "# 平均と　標準誤差（平均値のばらつき） をプロット ci でプロットするエラーバーの信頼区間をコントロール\n",
    "fig1 = plt.figure()\n",
    "sns.barplot(x = 'Survived', y= 'Fare', data=titanic_df, ci=68)\n",
    "plt.show()\n",
    "\n",
    "fig2 = plt.figure()\n",
    "sns.factorplot(x = 'Survived', y= 'Fare', data=titanic_df)\n",
    "plt.show()\n",
    "\n",
    "# 平均と　標準偏差（値のばらつき）をプロット　\n",
    "# 値の指定 xticks の指定等若干面倒\n",
    "\n",
    "fare_mean_mat = [fare_mean[\"Fare\"][fare_mean[\"Survived\"]==0].values[0] \\\n",
    "                 , fare_mean[\"Fare\"][fare_mean[\"Survived\"]==1].values[0]]\n",
    "fare_std_mat = [fare_std[\"Fare\"][fare_std[\"Survived\"]==0].values[0] \\\n",
    "                 , fare_std[\"Fare\"][fare_std[\"Survived\"]==1].values[0]]\n",
    "\n",
    "fig = plt.figure()\n",
    "x = list([0, 1])\n",
    "plt.bar(x, fare_mean_mat, yerr = fare_std_mat, align=\"center\", ecolor='black')\n",
    "plt.xticks(x)\n",
    "plt.show()"
   ]
  },
  {
   "cell_type": "markdown",
   "metadata": {},
   "source": [
    "## Age と　生存率の関係をプロット"
   ]
  },
  {
   "cell_type": "code",
   "execution_count": 76,
   "metadata": {
    "collapsed": false
   },
   "outputs": [
    {
     "data": {
      "text/plain": [
       "Survived      0\n",
       "Pclass        0\n",
       "Sex           0\n",
       "Age         177\n",
       "SibSp         0\n",
       "Parch         0\n",
       "Fare          0\n",
       "Cabin       687\n",
       "C             0\n",
       "Q             0\n",
       "dtype: int64"
      ]
     },
     "execution_count": 76,
     "metadata": {},
     "output_type": "execute_result"
    }
   ],
   "source": [
    "titanic_df.isnull().sum()"
   ]
  },
  {
   "cell_type": "code",
   "execution_count": 77,
   "metadata": {
    "collapsed": false
   },
   "outputs": [
    {
     "name": "stderr",
     "output_type": "stream",
     "text": [
      "/Users/a_shika/.pyenv/versions/anaconda3-2.3.0/lib/python3.4/site-packages/IPython/kernel/__main__.py:23: SettingWithCopyWarning: \n",
      "A value is trying to be set on a copy of a slice from a DataFrame\n",
      "\n",
      "See the caveats in the documentation: http://pandas.pydata.org/pandas-docs/stable/indexing.html#indexing-view-versus-copy\n",
      "/Users/a_shika/.pyenv/versions/anaconda3-2.3.0/lib/python3.4/site-packages/IPython/kernel/__main__.py:24: SettingWithCopyWarning: \n",
      "A value is trying to be set on a copy of a slice from a DataFrame\n",
      "\n",
      "See the caveats in the documentation: http://pandas.pydata.org/pandas-docs/stable/indexing.html#indexing-view-versus-copy\n"
     ]
    },
    {
     "data": {
      "text/plain": [
       "(array([ 14.,  10.,   6.,  10.,   7.,   3.,   4.,   8.,   2.,   4.,   1.,\n",
       "          8.,  15.,  24.,  17.,  32.,  31.,  21.,  61.,  29.,  35.,  35.,\n",
       "         23.,  21.,  33.,  27.,  60.,  23.,  23.,  19.,  22.,  29.,  13.,\n",
       "         29.,  18.,  13.,  26.,  11.,   9.,  14.,  12.,   9.,   6.,  10.,\n",
       "          7.,   6.,   1.,   8.,   7.,   2.,   5.,   2.,   4.,   3.,   4.,\n",
       "          4.,   3.,   1.,   0.,   0.,   0.,   3.,   2.,   0.,   1.,   0.,\n",
       "          0.,   0.,   0.,   1.]),\n",
       " array([  0.42      ,   1.55685714,   2.69371429,   3.83057143,\n",
       "          4.96742857,   6.10428571,   7.24114286,   8.378     ,\n",
       "          9.51485714,  10.65171429,  11.78857143,  12.92542857,\n",
       "         14.06228571,  15.19914286,  16.336     ,  17.47285714,\n",
       "         18.60971429,  19.74657143,  20.88342857,  22.02028571,\n",
       "         23.15714286,  24.294     ,  25.43085714,  26.56771429,\n",
       "         27.70457143,  28.84142857,  29.97828571,  31.11514286,\n",
       "         32.252     ,  33.38885714,  34.52571429,  35.66257143,\n",
       "         36.79942857,  37.93628571,  39.07314286,  40.21      ,\n",
       "         41.34685714,  42.48371429,  43.62057143,  44.75742857,\n",
       "         45.89428571,  47.03114286,  48.168     ,  49.30485714,\n",
       "         50.44171429,  51.57857143,  52.71542857,  53.85228571,\n",
       "         54.98914286,  56.126     ,  57.26285714,  58.39971429,\n",
       "         59.53657143,  60.67342857,  61.81028571,  62.94714286,\n",
       "         64.084     ,  65.22085714,  66.35771429,  67.49457143,\n",
       "         68.63142857,  69.76828571,  70.90514286,  72.042     ,\n",
       "         73.17885714,  74.31571429,  75.45257143,  76.58942857,\n",
       "         77.72628571,  78.86314286,  80.        ]),\n",
       " <a list of 70 Patch objects>)"
      ]
     },
     "execution_count": 77,
     "metadata": {},
     "output_type": "execute_result"
    },
    {
     "data": {
      "image/png": "[encoded data removed]",
      "text/plain": [
       "<matplotlib.figure.Figure at 0x11c6ad748>"
      ]
     },
     "metadata": {},
     "output_type": "display_data"
    }
   ],
   "source": [
    "## 年齢データは欠損が多いので，　平均値+_標準偏差の中から生成した乱数で補間する\n",
    "\n",
    "fig, (axis1, axis2) = plt.subplots(1,2)\n",
    "axis1.set_title('Original Age values - Titanic')\n",
    "axis2.set_title('New Age values - Titanic')\n",
    "\n",
    "ma_titanic = titanic_df[\"Age\"].mean()\n",
    "sa_titanic = titanic_df[\"Age\"].std()\n",
    "cna_titanic = titanic_df[\"Age\"].isnull().sum()\n",
    "\n",
    "ma_test = test_df[\"Age\"].mean()\n",
    "sa_test = test_df[\"Age\"].std()\n",
    "cna_test = test_df[\"Age\"].isnull().sum()\n",
    "\n",
    "# (mean+_std)の区間で整数乱数を生成\n",
    "rand_1 = np.random.randint(ma_titanic-sa_titanic, ma_titanic+sa_titanic, size = cna_titanic)\n",
    "rand_2 = np.random.randint(ma_test - sa_test, ma_test + sa_test, size = cna_test)\n",
    "\n",
    "# 元々の年齢の分布を nan を除いてプロット\n",
    "axis1.hist(titanic_df[\"Age\"].dropna().values, bins=70)\n",
    "\n",
    "# NaN に求めた整数乱数を代入して分布をプロット\n",
    "titanic_df[\"Age\"][np.isnan(titanic_df[\"Age\"])] = rand_1\n",
    "test_df[\"Age\"][np.isnan(test_df[\"Age\"])] = rand_2\n",
    "\n",
    "axis2.hist(titanic_df[\"Age\"].values, bins=70)\n",
    "\n"
   ]
  },
  {
   "cell_type": "code",
   "execution_count": 78,
   "metadata": {
    "collapsed": false
   },
   "outputs": [
    {
     "data": {
      "image/png": "[encoded data removed]",
      "text/plain": [
       "<matplotlib.figure.Figure at 0x11c89a588>"
      ]
     },
     "metadata": {},
     "output_type": "display_data"
    },
    {
     "data": {
      "text/plain": [
       "<matplotlib.axes._subplots.AxesSubplot at 0x110999da0>"
      ]
     },
     "execution_count": 78,
     "metadata": {},
     "output_type": "execute_result"
    },
    {
     "data": {
      "image/png": "[encoded data removed]",
      "text/plain": [
       "<matplotlib.figure.Figure at 0x11cacc7b8>"
      ]
     },
     "metadata": {},
     "output_type": "display_data"
    }
   ],
   "source": [
    "# 各年齢における 生存，死亡割合を可視化\n",
    "\n",
    "facet = sns.FacetGrid(titanic_df, hue=\"Survived\",aspect=4)\n",
    "#facet.map(sns.kdeplot,'Age',shade= True)\n",
    "facet.set(xlim=(0, titanic_df['Age'].max()))\n",
    "facet.add_legend()\n",
    "plt.show()\n",
    "\n",
    "# 年齢ごとの生存割合を可視化\n",
    "\n",
    "fig = plt.figure()\n",
    "titanic_df[\"Age\"] = titanic_df[\"Age\"].astype(int)\n",
    "average_age_survived = titanic_df[[\"Age\",\"Survived\"]].groupby(['Age'], as_index=False).mean()\n",
    "sns.barplot(x='Age', y=\"Survived\", data=average_age_survived)\n"
   ]
  },
  {
   "cell_type": "markdown",
   "metadata": {},
   "source": [
    "## 性別，年令による生存確率の関係をプロット"
   ]
  },
  {
   "cell_type": "code",
   "execution_count": 79,
   "metadata": {
    "collapsed": false
   },
   "outputs": [
    {
     "data": {
      "image/png": "[encoded data removed]",
      "text/plain": [
       "<matplotlib.figure.Figure at 0x117d489e8>"
      ]
     },
     "metadata": {},
     "output_type": "display_data"
    }
   ],
   "source": [
    "# 16歳未満であれば child, 以上であれば Sex の項目(M,F) を返す\n",
    "\n",
    "def get_person(passenger):\n",
    "    age,sex = passenger\n",
    "    return 'child' if age < 16 else sex\n",
    "\n",
    "# apply で各レコードに対して get_person 関数を適用\n",
    "titanic_df[\"Person\"] = titanic_df[[\"Age\",\"Sex\"]].apply(get_person, axis=1)\n",
    "test_df[\"Person\"] = test_df[[\"Age\",\"Sex\"]].apply(get_person, axis=1)\n",
    "\n",
    "\n",
    "fig, (axis1, axis2) = plt.subplots(1,2)\n",
    "sns.countplot(x=\"Person\",hue='Survived', data = titanic_df, ax = axis1)\n",
    "sns.barplot(x=\"Person\", y = 'Survived', data = titanic_df, ax = axis2)\n",
    "\n",
    "\n",
    "# Female, Child のダミー変数をデータに追加し， Sex, Person, Male を落とす\n",
    "\n",
    "pdum_titanic = pd.get_dummies(titanic_df[\"Person\"])\n",
    "pdum_test     = pd.get_dummies(test_df[\"Person\"])\n",
    "\n",
    "titanic_df = titanic_df.join(pdum_titanic)\n",
    "test_df = test_df.join(pdum_test)\n",
    "\n",
    "titanic_df.drop([\"Person\",\"Sex\",\"male\"], axis=1, inplace=True)\n",
    "test_df.drop([\"Person\",\"Sex\",\"male\"], axis=1, inplace=True)"
   ]
  },
  {
   "cell_type": "markdown",
   "metadata": {},
   "source": [
    "## Pclass と 生存確率の関係をプロット"
   ]
  },
  {
   "cell_type": "code",
   "execution_count": 80,
   "metadata": {
    "collapsed": false
   },
   "outputs": [
    {
     "data": {
      "image/png": "[encoded data removed]",
      "text/plain": [
       "<matplotlib.figure.Figure at 0x11cc06d30>"
      ]
     },
     "metadata": {},
     "output_type": "display_data"
    }
   ],
   "source": [
    "sns.factorplot(x = 'Pclass', y = 'Survived', data=titanic_df, kind=\"bar\")\n",
    "\n",
    "\n",
    "# Pclass が 1,2 のものは生存率が高いと考えられるので残す\n",
    "\n",
    "pclass_dummies_titanic  = pd.get_dummies(titanic_df['Pclass'])\n",
    "pclass_dummies_titanic.columns = ['Class_1','Class_2','Class_3']\n",
    "pclass_dummies_titanic.drop(['Class_3'], axis=1, inplace=True)\n",
    "\n",
    "pclass_dummies_test  = pd.get_dummies(test_df['Pclass'])\n",
    "pclass_dummies_test.columns = ['Class_1','Class_2','Class_3']\n",
    "pclass_dummies_test.drop(['Class_3'], axis=1, inplace=True)\n",
    "\n",
    "titanic_df.drop(['Pclass'],axis=1,inplace=True)\n",
    "test_df.drop(['Pclass'],axis=1,inplace=True)\n",
    "\n",
    "titanic_df = titanic_df.join(pclass_dummies_titanic)\n",
    "test_df    = test_df.join(pclass_dummies_test)"
   ]
  },
  {
   "cell_type": "code",
   "execution_count": 81,
   "metadata": {
    "collapsed": false
   },
   "outputs": [],
   "source": [
    "# 残りの不必要な特徴を削除\n",
    "titanic_df.drop([\"SibSp\",\"Parch\", \"Cabin\"], axis=1, inplace=True)\n",
    "test_df.drop([\"SibSp\",\"Parch\", \"Cabin\"], axis=1, inplace=True)"
   ]
  },
  {
   "cell_type": "markdown",
   "metadata": {},
   "source": [
    "# 残した有効な特徴を用いて推定"
   ]
  },
  {
   "cell_type": "code",
   "execution_count": 82,
   "metadata": {
    "collapsed": false
   },
   "outputs": [],
   "source": [
    "from sklearn.linear_model import LogisticRegression\n",
    "from sklearn.svm import SVC, LinearSVC\n",
    "from sklearn.ensemble import RandomForestClassifier\n",
    "from sklearn.neighbors import KNeighborsClassifier\n",
    "\n",
    "from sklearn.cross_validation import train_test_split"
   ]
  },
  {
   "cell_type": "code",
   "execution_count": 83,
   "metadata": {
    "collapsed": true
   },
   "outputs": [],
   "source": [
    "X = titanic_df.drop(\"Survived\", axis=1)\n",
    "y = titanic_df[\"Survived\"]\n",
    "\n",
    "X_train, X_test, y_train, y_test = train_test_split(X,y, test_size = 0.3, random_state=0)"
   ]
  },
  {
   "cell_type": "code",
   "execution_count": 84,
   "metadata": {
    "collapsed": false
   },
   "outputs": [
    {
     "name": "stdout",
     "output_type": "stream",
     "text": [
      "0.873194221509\n",
      "0.682835820896\n"
     ]
    }
   ],
   "source": [
    "svc = SVC()\n",
    "svc.fit(X_train, y_train)\n",
    "\n",
    "print(svc.score(X_train, y_train))\n",
    "print(svc.score(X_test,y_test))"
   ]
  },
  {
   "cell_type": "code",
   "execution_count": 135,
   "metadata": {
    "collapsed": false,
    "scrolled": true
   },
   "outputs": [
    {
     "name": "stdout",
     "output_type": "stream",
     "text": [
      "0.963081861958\n",
      "0.80223880597\n"
     ]
    }
   ],
   "source": [
    "random_forest = RandomForestClassifier(n_estimators=1000)\n",
    "\n",
    "random_forest.fit(X_train, y_train)\n",
    "\n",
    "print(random_forest.score(X_train, y_train))\n",
    "print(random_forest.score(X_test, y_test))"
   ]
  },
  {
   "cell_type": "code",
   "execution_count": 112,
   "metadata": {
    "collapsed": false
   },
   "outputs": [
    {
     "name": "stdout",
     "output_type": "stream",
     "text": [
      "0.815409309791\n",
      "0.686567164179\n"
     ]
    }
   ],
   "source": [
    "# k Nearest Neighbor\n",
    "\n",
    "knn = KNeighborsClassifier(n_neighbors = 3)\n",
    "\n",
    "knn.fit(X_train, y_train)\n",
    "\n",
    "print(knn.score(X_train, y_train))\n",
    "print(knn.score(X_test, y_test))"
   ]
  },
  {
   "cell_type": "markdown",
   "metadata": {},
   "source": [
    "# XGBoost による識別"
   ]
  },
  {
   "cell_type": "code",
   "execution_count": 136,
   "metadata": {
    "collapsed": false
   },
   "outputs": [
    {
     "ename": "ImportError",
     "evalue": "No module named 'xgboost'",
     "output_type": "error",
     "traceback": [
      "\u001b[0;31m---------------------------------------------------------------------------\u001b[0m",
      "\u001b[0;31mImportError\u001b[0m                               Traceback (most recent call last)",
      "\u001b[0;32m<ipython-input-136-745aa3a2d734>\u001b[0m in \u001b[0;36m<module>\u001b[0;34m()\u001b[0m\n\u001b[0;32m----> 1\u001b[0;31m \u001b[0;32mimport\u001b[0m \u001b[0mxgboost\u001b[0m \u001b[0;32mas\u001b[0m \u001b[0mxgb\u001b[0m\u001b[0;34m\u001b[0m\u001b[0m\n\u001b[0m",
      "\u001b[0;31mImportError\u001b[0m: No module named 'xgboost'"
     ]
    }
   ],
   "source": []
  },
  {
   "cell_type": "code",
   "execution_count": null,
   "metadata": {
    "collapsed": true
   },
   "outputs": [],
   "source": []
  },
  {
   "cell_type": "code",
   "execution_count": null,
   "metadata": {
    "collapsed": true
   },
   "outputs": [],
   "source": []
  },
  {
   "cell_type": "code",
   "execution_count": null,
   "metadata": {
    "collapsed": true
   },
   "outputs": [],
   "source": []
  },
  {
   "cell_type": "code",
   "execution_count": null,
   "metadata": {
    "collapsed": true
   },
   "outputs": [],
   "source": []
  },
  {
   "cell_type": "code",
   "execution_count": null,
   "metadata": {
    "collapsed": true
   },
   "outputs": [],
   "source": []
  },
  {
   "cell_type": "markdown",
   "metadata": {},
   "source": [
    "# MLP & Chainer による識別"
   ]
  },
  {
   "cell_type": "code",
   "execution_count": 64,
   "metadata": {
    "collapsed": false
   },
   "outputs": [
    {
     "name": "stderr",
     "output_type": "stream",
     "text": [
      "/Users/a_shika/.pyenv/versions/anaconda3-2.3.0/lib/python3.4/site-packages/matplotlib/__init__.py:1318: UserWarning:  This call to matplotlib.use() has no effect\n",
      "because the backend has already been chosen;\n",
      "matplotlib.use() must be called *before* pylab, matplotlib.pyplot,\n",
      "or matplotlib.backends is imported for the first time.\n",
      "\n",
      "  warnings.warn(_use_error_msg)\n"
     ]
    }
   ],
   "source": [
    "import numpy as np\n",
    "import pandas as pd\n",
    "import matplotlib.pylab as plt\n",
    "%matplotlib inline\n",
    "\n",
    "from sklearn.cross_validation import train_test_split\n",
    "from sklearn.preprocessing import StandardScaler, MinMaxScaler, Normalizer\n",
    "from sklearn.datasets import load_iris\n",
    "\n",
    "import chainer\n",
    "import chainer.functions as F\n",
    "import chainer.links as L\n",
    "from chainer import Chain, Variable\n",
    "from chainer import optimizers\n",
    "from chainer import iterators, training, datasets\n",
    "from chainer.training import extensions\n",
    "\n",
    "from tqdm import tqdm"
   ]
  },
  {
   "cell_type": "code",
   "execution_count": 118,
   "metadata": {
    "collapsed": true
   },
   "outputs": [],
   "source": [
    "# ニューラルネットを定義\n",
    "\n",
    "class IrisNN(Chain):\n",
    "    def __init__(self, hidden=[100, 200, 100], train=True):\n",
    "        \n",
    "        initializer = chainer.initializers.HeNormal()\n",
    "        \n",
    "        super(IrisNN, self).__init__(\n",
    "    \n",
    "        l1 = L.Linear(8, hidden[0], initialW=initializer),\n",
    "        l2 = L.Linear(hidden[0], hidden[1], initialW=initializer),\n",
    "        l3 = L.Linear(hidden[1], hidden[2], initialW=initializer),\n",
    "        l4 = L.Linear(hidden[2], 2, initialW=initializer)\n",
    "        \n",
    "        )\n",
    "        self.train = train\n",
    "        self.dr = 0.5\n",
    "    \n",
    "    def set_train_state(self, train):\n",
    "        \n",
    "        self.train = train\n",
    "    \n",
    "    def set_dropout_ration(self, ratio):\n",
    "        self.dr = ratio\n",
    "    \n",
    "    def __call__(self, x):\n",
    "\n",
    "        h = F.relu(self.l1(x))\n",
    "        h = F.dropout(F.relu(self.l2(h)), train = self.train, ratio = self.dr)\n",
    "        h = F.dropout(F.relu(self.l3(h)), train = self.train, ratio = self.dr)\n",
    "        h = self.l4(h)   # softmax に渡す最後の層では rerlu を用いないことに注意\n",
    "        \n",
    "        return h\n",
    "    "
   ]
  },
  {
   "cell_type": "code",
   "execution_count": 129,
   "metadata": {
    "collapsed": false
   },
   "outputs": [],
   "source": [
    "# ニューラルネットを定義\n",
    "\n",
    "class IrisNN(Chain):\n",
    "    def __init__(self, hidden=[512, 512, 100], train=True):\n",
    "        \n",
    "        initializer = chainer.initializers.HeNormal()\n",
    "        \n",
    "        super(IrisNN, self).__init__(\n",
    "    \n",
    "        l1 = L.Linear(8, hidden[0], initialW=initializer),\n",
    "        l2 = L.Linear(hidden[0], hidden[1], initialW=initializer),\n",
    "        l3 = L.Linear(hidden[1], 2, initialW=initializer),\n",
    "        #l4 = L.Linear(hidden[2], 2, initialW=initializer)\n",
    "        \n",
    "        bn1 = L.BatchNormalization(hidden[0]),\n",
    "        bn2 = L.BatchNormalization(hidden[1])\n",
    "        )\n",
    "        self.train = train\n",
    "        self.dr = 0.5\n",
    "    \n",
    "    def set_train_state(self, train):\n",
    "        \n",
    "        self.train = train\n",
    "    \n",
    "    def set_dropout_ration(self, ratio):\n",
    "        self.dr = ratio\n",
    "    \n",
    "    def __call__(self, x):\n",
    "\n",
    "        h = F.dropout(self.bn1(F.relu(self.l1(x))), train = self.train, ratio = self.dr)\n",
    "        h = F.dropout(self.bn2(F.relu(self.l2(h))), train = self.train, ratio = self.dr)\n",
    "        h = self.l3(h)\n",
    "        #h = F.dropout(F.relu(self.l3(h)), train = self.train, ratio = self.dr)\n",
    "       # h = self.l4(h)   # softmax に渡す最後の層では rerlu を用いないことに注意\n",
    "        \n",
    "        return h"
   ]
  },
  {
   "cell_type": "code",
   "execution_count": 132,
   "metadata": {
    "collapsed": false
   },
   "outputs": [
    {
     "name": "stdout",
     "output_type": "stream",
     "text": [
      "epoch       main/loss   validation/main/loss  main/accuracy  validation/main/accuracy\n",
      "\u001b[J1           1.10898     0.681146              0.638571       0.788967                  \n",
      "\u001b[J2           0.787184    0.550856              0.736667       0.788967                  \n",
      "\u001b[J3           0.686466    0.651463              0.745          0.805023                  \n",
      "\u001b[J4           0.788635    0.600372              0.741667       0.804272                  \n",
      "\u001b[J5           0.681924    0.591083              0.763333       0.808967                  \n",
      "\u001b[J6           0.613054    0.634486              0.781429       0.803662                  \n",
      "\u001b[J7           0.594497    0.598726              0.763333       0.7923                    \n",
      "\u001b[J8           0.561651    0.555652              0.791667       0.81169                   \n",
      "\u001b[J9           0.581955    0.534691              0.798333       0.815023                  \n",
      "\u001b[J10          0.613683    0.538551              0.78           0.805634                  \n",
      "\u001b[J11          0.509316    0.532602              0.798571       0.8023                    \n",
      "\u001b[J12          0.576631    0.527546              0.776667       0.8023                    \n",
      "\u001b[J13          0.536802    0.515822              0.78           0.805634                  \n",
      "\u001b[J14          0.559016    0.500338              0.773333       0.806995                  \n",
      "\u001b[J15          0.542916    0.491337              0.786667       0.797606                  \n",
      "\u001b[J16          0.497855    0.491617              0.798571       0.798967                  \n",
      "\u001b[J     total [########..........................................] 16.13%\n",
      "this epoch [######............................................] 12.90%\n",
      "       100 iter, 16 epoch / 100 epochs\n",
      "       inf iters/sec. Estimated time to finish: 0:00:00.\n",
      "\u001b[4A\u001b[J17          0.533796    0.488696              0.8            0.805634                  \n",
      "\u001b[J18          0.549107    0.493249              0.783333       0.794272                  \n",
      "\u001b[J19          0.514275    0.512732              0.776667       0.810329                  \n",
      "\u001b[J20          0.525907    0.522405              0.781667       0.81169                   \n",
      "\u001b[J21          0.500087    0.484661              0.8            0.8023                    \n",
      "\u001b[J22          0.509421    0.465567              0.793333       0.805634                  \n",
      "\u001b[J23          0.509102    0.455337              0.79           0.8023                    \n",
      "\u001b[J24          0.491803    0.44985               0.805          0.808967                  \n",
      "\u001b[J25          0.488161    0.443236              0.783333       0.808967                  \n",
      "\u001b[J26          0.504593    0.448444              0.79           0.810939                  \n",
      "\u001b[J27          0.493508    0.45707               0.798333       0.810329                  \n",
      "\u001b[J28          0.451542    0.478978              0.815          0.810329                  \n",
      "\u001b[J29          0.464556    0.464117              0.816667       0.805634                  \n",
      "\u001b[J30          0.465576    0.454109              0.815          0.804272                  \n",
      "\u001b[J31          0.467809    0.459154              0.792857       0.802911                  \n",
      "\u001b[J32          0.42731     0.459266              0.816667       0.804272                  \n",
      "\u001b[J     total [################..................................] 32.26%\n",
      "this epoch [############......................................] 25.81%\n",
      "       200 iter, 32 epoch / 100 epochs\n",
      "    64.196 iters/sec. Estimated time to finish: 0:00:06.542449.\n",
      "\u001b[4A\u001b[J33          0.466185    0.451307              0.806667       0.805634                  \n",
      "\u001b[J34          0.459254    0.450244              0.811667       0.804272                  \n",
      "\u001b[J35          0.497683    0.465136              0.8            0.8023                    \n",
      "\u001b[J36          0.42237     0.465298              0.818571       0.798967                  \n",
      "\u001b[J37          0.466382    0.461426              0.806667       0.805634                  \n",
      "\u001b[J38          0.425545    0.452697              0.815          0.810329                  \n",
      "\u001b[J39          0.446345    0.453808              0.795          0.813662                  \n",
      "\u001b[J40          0.448149    0.458494              0.795          0.790939                  \n",
      "\u001b[J41          0.46299     0.462631              0.807143       0.792911                  \n",
      "\u001b[J42          0.45252     0.45245               0.795          0.790939                  \n",
      "\u001b[J43          0.42102     0.445055              0.815          0.798967                  \n",
      "\u001b[J44          0.458488    0.452047              0.81           0.807606                  \n",
      "\u001b[J45          0.452644    0.451677              0.805          0.815634                  \n",
      "\u001b[J46          0.456892    0.444821              0.811429       0.8123                    \n",
      "\u001b[J47          0.441969    0.441012              0.81           0.797606                  \n",
      "\u001b[J48          0.436872    0.442658              0.813333       0.810939                  \n",
      "\u001b[J     total [########################..........................] 48.39%\n",
      "this epoch [###################...............................] 38.71%\n",
      "       300 iter, 48 epoch / 100 epochs\n",
      "    64.862 iters/sec. Estimated time to finish: 0:00:04.933568.\n",
      "\u001b[4A\u001b[J49          0.439025    0.445514              0.816667       0.804272                  \n",
      "\u001b[J50          0.457472    0.447806              0.805          0.8123                    \n",
      "\u001b[J51          0.427942    0.441928              0.807143       0.805634                  \n",
      "\u001b[J52          0.452994    0.434084              0.813333       0.797606                  \n",
      "\u001b[J53          0.432683    0.441377              0.826667       0.799577                  \n",
      "\u001b[J54          0.42546     0.44282               0.815          0.8023                    \n",
      "\u001b[J55          0.434471    0.446247              0.82           0.806995                  \n",
      "\u001b[J56          0.429312    0.448033              0.824286       0.810329                  \n",
      "\u001b[J57          0.43837     0.434799              0.823333       0.806995                  \n",
      "\u001b[J58          0.445061    0.441029              0.816667       0.816995                  \n",
      "\u001b[J59          0.423849    0.440724              0.815          0.818357                  \n",
      "\u001b[J60          0.437891    0.453785              0.808333       0.813662                  \n",
      "\u001b[J61          0.412654    0.452834              0.822857       0.796244                  \n",
      "\u001b[J62          0.427067    0.446117              0.813333       0.805634                  \n",
      "\u001b[J63          0.42088     0.437695              0.816667       0.810329                  \n",
      "\u001b[J64          0.450374    0.447833              0.806667       0.823052                  \n",
      "\u001b[J     total [################################..................] 64.52%\n",
      "this epoch [#########################.........................] 51.61%\n",
      "       400 iter, 64 epoch / 100 epochs\n",
      "    63.326 iters/sec. Estimated time to finish: 0:00:03.474112.\n",
      "\u001b[4A\u001b[J65          0.431767    0.446758              0.82           0.810329                  \n",
      "\u001b[J66          0.41474     0.435397              0.817143       0.799577                  \n",
      "\u001b[J67          0.42648     0.426736              0.81           0.798967                  \n",
      "\u001b[J68          0.448292    0.42901               0.801667       0.805634                  \n",
      "\u001b[J69          0.421253    0.447779              0.8            0.810329                  \n",
      "\u001b[J70          0.413572    0.44691               0.815          0.810329                  \n",
      "\u001b[J71          0.441721    0.443844              0.814286       0.81169                   \n",
      "\u001b[J72          0.400714    0.436156              0.823333       0.805634                  \n",
      "\u001b[J73          0.448068    0.435659              0.808333       0.804272                  \n",
      "\u001b[J74          0.409678    0.438746              0.808333       0.790939                  \n",
      "\u001b[J75          0.421316    0.447056              0.816667       0.798967                  \n",
      "\u001b[J76          0.408719    0.448918              0.822857       0.815023                  \n",
      "\u001b[J77          0.399683    0.442329              0.816667       0.8023                    \n",
      "\u001b[J78          0.423519    0.431387              0.813333       0.807606                  \n",
      "\u001b[J79          0.445797    0.432437              0.806667       0.796244                  \n",
      "\u001b[J80          0.409476    0.430325              0.823333       0.813662                  \n",
      "\u001b[J     total [########################################..........] 80.65%\n",
      "this epoch [################################..................] 64.52%\n",
      "       500 iter, 80 epoch / 100 epochs\n",
      "     63.19 iters/sec. Estimated time to finish: 0:00:01.899023.\n",
      "\u001b[4A\u001b[J81          0.416778    0.439324              0.821429       0.808967                  \n",
      "\u001b[J82          0.449998    0.436325              0.808333       0.797606                  \n",
      "\u001b[J83          0.411407    0.436635              0.825          0.800939                  \n",
      "\u001b[J84          0.40326     0.431377              0.83           0.794272                  \n",
      "\u001b[J85          0.413976    0.432857              0.831667       0.800939                  \n",
      "\u001b[J86          0.425408    0.430476              0.821429       0.805634                  \n",
      "\u001b[J87          0.408908    0.427373              0.81           0.810939                  \n",
      "\u001b[J88          0.437318    0.426084              0.811667       0.800939                  \n",
      "\u001b[J89          0.403892    0.431073              0.833333       0.797606                  \n",
      "\u001b[J90          0.408554    0.433448              0.831667       0.803662                  \n",
      "\u001b[J91          0.439363    0.435252              0.817143       0.806995                  \n",
      "\u001b[J92          0.408374    0.435847              0.825          0.805634                  \n",
      "\u001b[J93          0.392506    0.430436              0.841667       0.8023                    \n",
      "\u001b[J94          0.403512    0.433026              0.823333       0.8023                    \n",
      "\u001b[J95          0.423756    0.428402              0.821667       0.805634                  \n",
      "\u001b[J96          0.43478     0.436433              0.814286       0.806995                  \n",
      "\u001b[J     total [################################################..] 96.77%\n",
      "this epoch [######################################............] 77.42%\n",
      "       600 iter, 96 epoch / 100 epochs\n",
      "    63.926 iters/sec. Estimated time to finish: 0:00:00.312862.\n",
      "\u001b[4A\u001b[J97          0.405705    0.433738              0.825          0.804272                  \n",
      "\u001b[J98          0.441177    0.428877              0.826667       0.802911                  \n",
      "\u001b[J99          0.416303    0.429932              0.813333       0.810939                  \n",
      "\u001b[J100         0.420561    0.435875              0.811667       0.813662                  \n",
      "\u001b[J"
     ]
    }
   ],
   "source": [
    "from sklearn.preprocessing import StandardScaler\n",
    "\n",
    "std = StandardScaler()\n",
    "\n",
    "X_chainer = X.values.astype(np.float32)\n",
    "t_chainer = y.values.astype(np.int32)\n",
    "\n",
    "X_chainer = std.fit_transform(X_chainer)\n",
    "\n",
    "train, test = datasets.split_dataset_random(datasets.TupleDataset(X_chainer,t_chainer), 620)\n",
    "train_iter = iterators.SerialIterator(train, batch_size=100, shuffle=True)\n",
    "test_iter = iterators.SerialIterator(test, batch_size=100, repeat=False, shuffle=True)\n",
    "\n",
    "\n",
    "model = L.Classifier(IrisNN()) # 識別関数は デフォルトで softmax cross entropy\n",
    "opt = optimizers.Adam()\n",
    "opt.setup(model)\n",
    "\n",
    "# trainer の モデル評価に用いる際には， dropout を off にした状態で計算させる\n",
    "eval_model = model.copy() # モデルのコピーでは，重みはコピー前と共有　→　model が学習したら eval_modelの重みも変化\n",
    "eval_model.predictor.set_train_state(False)\n",
    "\n",
    "updater = training.StandardUpdater(train_iter, opt)\n",
    "trainer = training.Trainer(updater, (100, 'epoch'), out='result')\n",
    "trainer.extend(extensions.Evaluator(test_iter, eval_model))\n",
    "trainer.extend(extensions.LogReport())\n",
    "trainer.extend(extensions.PrintReport(['epoch', 'main/loss', 'validation/main/loss', 'main/accuracy', 'validation/main/accuracy']))\n",
    "trainer.extend(extensions.ProgressBar())\n",
    "\n",
    "trainer.run()"
   ]
  },
  {
   "cell_type": "code",
   "execution_count": 120,
   "metadata": {
    "collapsed": false
   },
   "outputs": [
    {
     "data": {
      "text/plain": [
       "(271, 2)"
      ]
     },
     "execution_count": 120,
     "metadata": {},
     "output_type": "execute_result"
    }
   ],
   "source": [
    "np.shape(test[:])"
   ]
  },
  {
   "cell_type": "code",
   "execution_count": null,
   "metadata": {
    "collapsed": true
   },
   "outputs": [],
   "source": []
  },
  {
   "cell_type": "code",
   "execution_count": null,
   "metadata": {
    "collapsed": true
   },
   "outputs": [],
   "source": []
  },
  {
   "cell_type": "code",
   "execution_count": null,
   "metadata": {
    "collapsed": true
   },
   "outputs": [],
   "source": []
  },
  {
   "cell_type": "code",
   "execution_count": null,
   "metadata": {
    "collapsed": true
   },
   "outputs": [],
   "source": []
  },
  {
   "cell_type": "code",
   "execution_count": null,
   "metadata": {
    "collapsed": true
   },
   "outputs": [],
   "source": []
  },
  {
   "cell_type": "code",
   "execution_count": null,
   "metadata": {
    "collapsed": true
   },
   "outputs": [],
   "source": []
  },
  {
   "cell_type": "markdown",
   "metadata": {},
   "source": [
    "## ランダムフォレストによる Feature importance の計算 "
   ]
  },
  {
   "cell_type": "code",
   "execution_count": 61,
   "metadata": {
    "collapsed": false
   },
   "outputs": [
    {
     "data": {
      "text/html": [
       "<div>\n",
       "<table border=\"1\" class=\"dataframe\">\n",
       "  <thead>\n",
       "    <tr style=\"text-align: right;\">\n",
       "      <th></th>\n",
       "      <th>PassengerId</th>\n",
       "      <th>Survived</th>\n",
       "      <th>Pclass</th>\n",
       "      <th>Name</th>\n",
       "      <th>Sex</th>\n",
       "      <th>Age</th>\n",
       "      <th>SibSp</th>\n",
       "      <th>Parch</th>\n",
       "      <th>Ticket</th>\n",
       "      <th>Fare</th>\n",
       "      <th>Cabin</th>\n",
       "      <th>Embarked</th>\n",
       "    </tr>\n",
       "  </thead>\n",
       "  <tbody>\n",
       "    <tr>\n",
       "      <th>0</th>\n",
       "      <td>1</td>\n",
       "      <td>0</td>\n",
       "      <td>3</td>\n",
       "      <td>Braund, Mr. Owen Harris</td>\n",
       "      <td>male</td>\n",
       "      <td>22.0</td>\n",
       "      <td>1</td>\n",
       "      <td>0</td>\n",
       "      <td>A/5 21171</td>\n",
       "      <td>7.2500</td>\n",
       "      <td>NaN</td>\n",
       "      <td>S</td>\n",
       "    </tr>\n",
       "    <tr>\n",
       "      <th>1</th>\n",
       "      <td>2</td>\n",
       "      <td>1</td>\n",
       "      <td>1</td>\n",
       "      <td>Cumings, Mrs. John Bradley (Florence Briggs Th...</td>\n",
       "      <td>female</td>\n",
       "      <td>38.0</td>\n",
       "      <td>1</td>\n",
       "      <td>0</td>\n",
       "      <td>PC 17599</td>\n",
       "      <td>71.2833</td>\n",
       "      <td>C85</td>\n",
       "      <td>C</td>\n",
       "    </tr>\n",
       "    <tr>\n",
       "      <th>2</th>\n",
       "      <td>3</td>\n",
       "      <td>1</td>\n",
       "      <td>3</td>\n",
       "      <td>Heikkinen, Miss. Laina</td>\n",
       "      <td>female</td>\n",
       "      <td>26.0</td>\n",
       "      <td>0</td>\n",
       "      <td>0</td>\n",
       "      <td>STON/O2. 3101282</td>\n",
       "      <td>7.9250</td>\n",
       "      <td>NaN</td>\n",
       "      <td>S</td>\n",
       "    </tr>\n",
       "    <tr>\n",
       "      <th>3</th>\n",
       "      <td>4</td>\n",
       "      <td>1</td>\n",
       "      <td>1</td>\n",
       "      <td>Futrelle, Mrs. Jacques Heath (Lily May Peel)</td>\n",
       "      <td>female</td>\n",
       "      <td>35.0</td>\n",
       "      <td>1</td>\n",
       "      <td>0</td>\n",
       "      <td>113803</td>\n",
       "      <td>53.1000</td>\n",
       "      <td>C123</td>\n",
       "      <td>S</td>\n",
       "    </tr>\n",
       "    <tr>\n",
       "      <th>4</th>\n",
       "      <td>5</td>\n",
       "      <td>0</td>\n",
       "      <td>3</td>\n",
       "      <td>Allen, Mr. William Henry</td>\n",
       "      <td>male</td>\n",
       "      <td>35.0</td>\n",
       "      <td>0</td>\n",
       "      <td>0</td>\n",
       "      <td>373450</td>\n",
       "      <td>8.0500</td>\n",
       "      <td>NaN</td>\n",
       "      <td>S</td>\n",
       "    </tr>\n",
       "  </tbody>\n",
       "</table>\n",
       "</div>"
      ],
      "text/plain": [
       "   PassengerId  Survived  Pclass  \\\n",
       "0            1         0       3   \n",
       "1            2         1       1   \n",
       "2            3         1       3   \n",
       "3            4         1       1   \n",
       "4            5         0       3   \n",
       "\n",
       "                                                Name     Sex   Age  SibSp  \\\n",
       "0                            Braund, Mr. Owen Harris    male  22.0      1   \n",
       "1  Cumings, Mrs. John Bradley (Florence Briggs Th...  female  38.0      1   \n",
       "2                             Heikkinen, Miss. Laina  female  26.0      0   \n",
       "3       Futrelle, Mrs. Jacques Heath (Lily May Peel)  female  35.0      1   \n",
       "4                           Allen, Mr. William Henry    male  35.0      0   \n",
       "\n",
       "   Parch            Ticket     Fare Cabin Embarked  \n",
       "0      0         A/5 21171   7.2500   NaN        S  \n",
       "1      0          PC 17599  71.2833   C85        C  \n",
       "2      0  STON/O2. 3101282   7.9250   NaN        S  \n",
       "3      0            113803  53.1000  C123        S  \n",
       "4      0            373450   8.0500   NaN        S  "
      ]
     },
     "execution_count": 61,
     "metadata": {},
     "output_type": "execute_result"
    }
   ],
   "source": [
    "titanic_df = pd.read_csv(\"../input/train.csv\")\n",
    "test_df = pd.read_csv(\"../input/test.csv\")\n",
    "\n",
    "titanic_df.head()"
   ]
  },
  {
   "cell_type": "code",
   "execution_count": 62,
   "metadata": {
    "collapsed": false
   },
   "outputs": [],
   "source": [
    "titanic_df.drop([\"PassengerId\",\"Name\",\"Ticket\"], axis=1, inplace=True)"
   ]
  },
  {
   "cell_type": "code",
   "execution_count": 63,
   "metadata": {
    "collapsed": false
   },
   "outputs": [
    {
     "ename": "ValueError",
     "evalue": "could not convert string to float: 'Q'",
     "output_type": "error",
     "traceback": [
      "\u001b[0;31m---------------------------------------------------------------------------\u001b[0m",
      "\u001b[0;31mValueError\u001b[0m                                Traceback (most recent call last)",
      "\u001b[0;32m<ipython-input-63-68e9f05d150a>\u001b[0m in \u001b[0;36m<module>\u001b[0;34m()\u001b[0m\n\u001b[1;32m      8\u001b[0m                                 n_jobs=-1)\n\u001b[1;32m      9\u001b[0m \u001b[0;34m\u001b[0m\u001b[0m\n\u001b[0;32m---> 10\u001b[0;31m \u001b[0mforest\u001b[0m\u001b[0;34m.\u001b[0m\u001b[0mfit\u001b[0m\u001b[0;34m(\u001b[0m\u001b[0mX_train\u001b[0m\u001b[0;34m,\u001b[0m \u001b[0my_train\u001b[0m\u001b[0;34m)\u001b[0m\u001b[0;34m\u001b[0m\u001b[0m\n\u001b[0m\u001b[1;32m     11\u001b[0m \u001b[0mimportances\u001b[0m \u001b[0;34m=\u001b[0m \u001b[0mforest\u001b[0m\u001b[0;34m.\u001b[0m\u001b[0mfeature_importances_\u001b[0m\u001b[0;34m\u001b[0m\u001b[0m\n\u001b[1;32m     12\u001b[0m \u001b[0;34m\u001b[0m\u001b[0m\n",
      "\u001b[0;32m/Users/a_shika/.pyenv/versions/anaconda3-2.3.0/lib/python3.4/site-packages/sklearn/ensemble/forest.py\u001b[0m in \u001b[0;36mfit\u001b[0;34m(self, X, y, sample_weight)\u001b[0m\n\u001b[1;32m    245\u001b[0m         \"\"\"\n\u001b[1;32m    246\u001b[0m         \u001b[0;31m# Validate or convert input data\u001b[0m\u001b[0;34m\u001b[0m\u001b[0;34m\u001b[0m\u001b[0m\n\u001b[0;32m--> 247\u001b[0;31m         \u001b[0mX\u001b[0m \u001b[0;34m=\u001b[0m \u001b[0mcheck_array\u001b[0m\u001b[0;34m(\u001b[0m\u001b[0mX\u001b[0m\u001b[0;34m,\u001b[0m \u001b[0maccept_sparse\u001b[0m\u001b[0;34m=\u001b[0m\u001b[0;34m\"csc\"\u001b[0m\u001b[0;34m,\u001b[0m \u001b[0mdtype\u001b[0m\u001b[0;34m=\u001b[0m\u001b[0mDTYPE\u001b[0m\u001b[0;34m)\u001b[0m\u001b[0;34m\u001b[0m\u001b[0m\n\u001b[0m\u001b[1;32m    248\u001b[0m         \u001b[0my\u001b[0m \u001b[0;34m=\u001b[0m \u001b[0mcheck_array\u001b[0m\u001b[0;34m(\u001b[0m\u001b[0my\u001b[0m\u001b[0;34m,\u001b[0m \u001b[0maccept_sparse\u001b[0m\u001b[0;34m=\u001b[0m\u001b[0;34m'csc'\u001b[0m\u001b[0;34m,\u001b[0m \u001b[0mensure_2d\u001b[0m\u001b[0;34m=\u001b[0m\u001b[0;32mFalse\u001b[0m\u001b[0;34m,\u001b[0m \u001b[0mdtype\u001b[0m\u001b[0;34m=\u001b[0m\u001b[0;32mNone\u001b[0m\u001b[0;34m)\u001b[0m\u001b[0;34m\u001b[0m\u001b[0m\n\u001b[1;32m    249\u001b[0m         \u001b[0;32mif\u001b[0m \u001b[0missparse\u001b[0m\u001b[0;34m(\u001b[0m\u001b[0mX\u001b[0m\u001b[0;34m)\u001b[0m\u001b[0;34m:\u001b[0m\u001b[0;34m\u001b[0m\u001b[0m\n",
      "\u001b[0;32m/Users/a_shika/.pyenv/versions/anaconda3-2.3.0/lib/python3.4/site-packages/sklearn/utils/validation.py\u001b[0m in \u001b[0;36mcheck_array\u001b[0;34m(array, accept_sparse, dtype, order, copy, force_all_finite, ensure_2d, allow_nd, ensure_min_samples, ensure_min_features, warn_on_dtype, estimator)\u001b[0m\n\u001b[1;32m    380\u001b[0m                                       force_all_finite)\n\u001b[1;32m    381\u001b[0m     \u001b[0;32melse\u001b[0m\u001b[0;34m:\u001b[0m\u001b[0;34m\u001b[0m\u001b[0m\n\u001b[0;32m--> 382\u001b[0;31m         \u001b[0marray\u001b[0m \u001b[0;34m=\u001b[0m \u001b[0mnp\u001b[0m\u001b[0;34m.\u001b[0m\u001b[0marray\u001b[0m\u001b[0;34m(\u001b[0m\u001b[0marray\u001b[0m\u001b[0;34m,\u001b[0m \u001b[0mdtype\u001b[0m\u001b[0;34m=\u001b[0m\u001b[0mdtype\u001b[0m\u001b[0;34m,\u001b[0m \u001b[0morder\u001b[0m\u001b[0;34m=\u001b[0m\u001b[0morder\u001b[0m\u001b[0;34m,\u001b[0m \u001b[0mcopy\u001b[0m\u001b[0;34m=\u001b[0m\u001b[0mcopy\u001b[0m\u001b[0;34m)\u001b[0m\u001b[0;34m\u001b[0m\u001b[0m\n\u001b[0m\u001b[1;32m    383\u001b[0m \u001b[0;34m\u001b[0m\u001b[0m\n\u001b[1;32m    384\u001b[0m         \u001b[0;32mif\u001b[0m \u001b[0mensure_2d\u001b[0m\u001b[0;34m:\u001b[0m\u001b[0;34m\u001b[0m\u001b[0m\n",
      "\u001b[0;31mValueError\u001b[0m: could not convert string to float: 'Q'"
     ]
    }
   ],
   "source": [
    "feat_labels = titanic_df.columns[1:]\n",
    "\n",
    "X_train = titanic_df.iloc[:,1:]\n",
    "y_train = titanic_df[\"Survived\"]\n",
    "\n",
    "forest = RandomForestClassifier(n_estimators=10000,\n",
    "                                random_state=0,\n",
    "                                n_jobs=-1)\n",
    "\n",
    "forest.fit(X_train, y_train)\n",
    "importances = forest.feature_importances_\n",
    "\n",
    "indices = np.argsort(importances)[::-1]\n",
    "\n",
    "for f in range(X_train.shape[1]):\n",
    "    print(\"%2d) %-*s %f\" % (f + 1, 30, \n",
    "                            feat_labels[indices[f]], \n",
    "                            importances[indices[f]]))\n",
    "\n",
    "\n"
   ]
  },
  {
   "cell_type": "code",
   "execution_count": null,
   "metadata": {
    "collapsed": true
   },
   "outputs": [],
   "source": []
  },
  {
   "cell_type": "code",
   "execution_count": null,
   "metadata": {
    "collapsed": true
   },
   "outputs": [],
   "source": []
  },
  {
   "cell_type": "code",
   "execution_count": null,
   "metadata": {
    "collapsed": true
   },
   "outputs": [],
   "source": []
  },
  {
   "cell_type": "code",
   "execution_count": null,
   "metadata": {
    "collapsed": true
   },
   "outputs": [],
   "source": []
  },
  {
   "cell_type": "code",
   "execution_count": null,
   "metadata": {
    "collapsed": true
   },
   "outputs": [],
   "source": []
  },
  {
   "cell_type": "code",
   "execution_count": null,
   "metadata": {
    "collapsed": false
   },
   "outputs": [],
   "source": []
  },
  {
   "cell_type": "code",
   "execution_count": null,
   "metadata": {
    "collapsed": true
   },
   "outputs": [],
   "source": []
  }
 ],
 "metadata": {
  "kernelspec": {
   "display_name": "Python 3",
   "language": "python",
   "name": "python3"
  },
  "language_info": {
   "codemirror_mode": {
    "name": "ipython",
    "version": 3
   },
   "file_extension": ".py",
   "mimetype": "text/x-python",
   "name": "python",
   "nbconvert_exporter": "python",
   "pygments_lexer": "ipython3",
   "version": "3.4.5"
  }
 },
 "nbformat": 4,
 "nbformat_minor": 0
}
